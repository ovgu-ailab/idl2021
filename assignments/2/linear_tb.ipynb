{
  "nbformat": 4,
  "nbformat_minor": 0,
  "metadata": {
    "colab": {
      "name": "linear_tb",
      "provenance": [],
      "collapsed_sections": []
    },
    "kernelspec": {
      "name": "python3",
      "display_name": "Python 3"
    },
    "language_info": {
      "name": "python"
    }
  },
  "cells": [
    {
      "cell_type": "code",
      "metadata": {
        "id": "w4XKUG5hnDki"
      },
      "source": [
        "import tensorflow as tf\n",
        "import numpy as np\n",
        "import os"
      ],
      "execution_count": null,
      "outputs": []
    },
    {
      "cell_type": "code",
      "metadata": {
        "id": "4uo0UC7jnMvQ"
      },
      "source": [
        "os.chdir(\"drive/My Drive/Colab Notebooks/2021\")"
      ],
      "execution_count": null,
      "outputs": []
    },
    {
      "cell_type": "code",
      "metadata": {
        "id": "83svGsfjnRsl"
      },
      "source": [
        "(train_images, train_labels), (test_images, test_labels) = tf.keras.datasets.mnist.load_data()\n",
        "\n",
        "def preprocess_images(images):\n",
        "    return images.reshape(-1, 784).astype(np.float32) / 255\n",
        "\n",
        "def preprocess_labels(labels):\n",
        "    return labels.reshape(-1).astype(np.int32)\n",
        "\n",
        "train_images = preprocess_images(train_images)\n",
        "test_images = preprocess_images(test_images)\n",
        "train_labels = preprocess_labels(train_labels)\n",
        "test_labels = preprocess_labels(test_labels)\n",
        "\n",
        "train_data = tf.data.Dataset.from_tensor_slices((train_images, train_labels)).shuffle(60000).batch(128).repeat()\n",
        "#test_data = tf.data.Dataset.from_tensor_slices((test_images, test_labels)).batch(128)"
      ],
      "execution_count": null,
      "outputs": []
    },
    {
      "cell_type": "code",
      "metadata": {
        "id": "3gWxUQMxncDR"
      },
      "source": [
        "train_steps = 1000\n",
        "lr = 0.1\n",
        "\n",
        "W = tf.Variable(np.zeros([784, 10]).astype(np.float32))\n",
        "b = tf.Variable(np.zeros(10, dtype=np.float32))\n",
        "\n",
        "# first change: set up log dir and file writer(s)\n",
        "from datetime import datetime\n",
        "logdir = os.path.join(\"logs\", \"linear\" + str(datetime.now()))\n",
        "train_writer = tf.summary.create_file_writer(os.path.join(logdir, \"train\"))\n",
        "test_writer = tf.summary.create_file_writer(os.path.join(logdir, \"test\"))"
      ],
      "execution_count": null,
      "outputs": []
    },
    {
      "cell_type": "code",
      "metadata": {
        "id": "fkWKtlpDoXI0"
      },
      "source": [
        "for step, (image_batch, label_batch) in enumerate(train_data):\n",
        "    if step > train_steps:\n",
        "        break\n",
        "\n",
        "    with tf.GradientTape() as tape:\n",
        "        logits = tf.matmul(image_batch, W) + b\n",
        "        xent = tf.reduce_mean(tf.nn.sparse_softmax_cross_entropy_with_logits(\n",
        "            logits=logits, labels=label_batch))\n",
        "        \n",
        "    grads = tape.gradient(xent, [W, b])\n",
        "    W.assign_sub(lr * grads[0])\n",
        "    b.assign_sub(lr * grads[1])\n",
        "    \n",
        "    # change #2: log this stuff every time step (rather wasteful)\n",
        "    with train_writer.as_default():\n",
        "        tf.summary.scalar(\"loss\", xent, step=step)\n",
        "        tf.summary.histogram(\"logits\", logits, step=step)\n",
        "        tf.summary.histogram(\"weights\", W, step=step)\n",
        "    \n",
        "    if not step % 100:\n",
        "        preds = tf.argmax(logits, axis=1, output_type=tf.int32)\n",
        "        acc = tf.reduce_mean(tf.cast(tf.equal(preds, label_batch), tf.float32))\n",
        "        \n",
        "        # change #3: log this only once every 100 steps\n",
        "        with train_writer.as_default():\n",
        "            tf.summary.scalar(\"accuracy\", acc, step=step)\n",
        "            tf.summary.image(\"input\", tf.reshape(image_batch, [-1, 28, 28, 1]), step=step)\n",
        "            \n",
        "        test_preds = tf.argmax(tf.matmul(test_images, W) + b, axis=1, output_type=tf.int32)\n",
        "        test_acc = tf.reduce_mean(tf.cast(tf.equal(test_preds, test_labels), tf.float32))\n",
        "        with test_writer.as_default():\n",
        "            tf.summary.scalar(\"accuracy\", test_acc, step=step)\n",
        "        \n",
        "        print(\"Training Loss: {} Accuracy: {}\".format(xent, acc))\n",
        "        print(\"Test accuracy: {}\\n\".format(test_acc))"
      ],
      "execution_count": null,
      "outputs": []
    },
    {
      "cell_type": "code",
      "metadata": {
        "id": "lqV3Kk-Uoknm"
      },
      "source": [
        "# then load/run tensorboard\n",
        "\n",
        "%load_ext tensorboard"
      ],
      "execution_count": null,
      "outputs": []
    },
    {
      "cell_type": "code",
      "metadata": {
        "id": "xSyjTI1zpsUH"
      },
      "source": [
        "%tensorboard --logdir logs"
      ],
      "execution_count": null,
      "outputs": []
    },
    {
      "cell_type": "code",
      "metadata": {
        "id": "ja9r06pjpurP"
      },
      "source": [
        ""
      ],
      "execution_count": null,
      "outputs": []
    }
  ]
}